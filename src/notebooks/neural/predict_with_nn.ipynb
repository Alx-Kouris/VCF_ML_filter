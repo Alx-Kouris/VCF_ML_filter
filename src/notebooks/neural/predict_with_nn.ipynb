{
 "cells": [
  {
   "cell_type": "code",
   "execution_count": 1,
   "id": "6cfb19dc-b854-4b3b-88c4-7b9223d71c92",
   "metadata": {},
   "outputs": [],
   "source": [
    "import torch\n",
    "import joblib\n",
    "import json\n",
    "import numpy as np\n",
    "import pandas as pd\n",
    "import matplotlib.pyplot as plt\n",
    "from cyvcf2 import VCF, Writer\n",
    "from vcf_helpers import extract_variant_features, normalize_vcf_features_for_prediction, determine_tumor_sample_index\n",
    "from sklearn.metrics import precision_score, recall_score"
   ]
  },
  {
   "cell_type": "code",
   "execution_count": 2,
   "id": "0a3f955c-5d40-4d24-a544-580a97b118cc",
   "metadata": {},
   "outputs": [],
   "source": [
    "# === Load model and scaler ===\n",
    "class FeedforwardNet(torch.nn.Module):\n",
    "    def __init__(self, input_dim):\n",
    "        super().__init__()\n",
    "        self.model = torch.nn.Sequential(\n",
    "            torch.nn.Linear(input_dim, 64),\n",
    "            torch.nn.BatchNorm1d(64),\n",
    "            torch.nn.ReLU(),\n",
    "            torch.nn.Dropout(0.3),\n",
    "            torch.nn.Linear(64, 32),\n",
    "            torch.nn.BatchNorm1d(32),\n",
    "            torch.nn.ReLU(),\n",
    "            torch.nn.Dropout(0.3),\n",
    "            torch.nn.Linear(32, 1),\n",
    "            torch.nn.Sigmoid()\n",
    "        )\n",
    "    def forward(self, x):\n",
    "        return self.model(x)"
   ]
  },
  {
   "cell_type": "code",
   "execution_count": 3,
   "id": "e128377b-2f77-4152-b72a-31e41c47fb13",
   "metadata": {},
   "outputs": [],
   "source": [
    "# Load metadata\n",
    "with open(\"model_metadata.json\") as f:\n",
    "    metadata = json.load(f)\n",
    "top_features = metadata[\"features\"]\n",
    "threshold = metadata[\"threshold\"]"
   ]
  },
  {
   "cell_type": "code",
   "execution_count": 4,
   "id": "1022ab31-064b-4ade-ae67-27ce1040bf52",
   "metadata": {},
   "outputs": [
    {
     "data": {
      "text/plain": [
       "FeedforwardNet(\n",
       "  (model): Sequential(\n",
       "    (0): Linear(in_features=11, out_features=64, bias=True)\n",
       "    (1): BatchNorm1d(64, eps=1e-05, momentum=0.1, affine=True, track_running_stats=True)\n",
       "    (2): ReLU()\n",
       "    (3): Dropout(p=0.3, inplace=False)\n",
       "    (4): Linear(in_features=64, out_features=32, bias=True)\n",
       "    (5): BatchNorm1d(32, eps=1e-05, momentum=0.1, affine=True, track_running_stats=True)\n",
       "    (6): ReLU()\n",
       "    (7): Dropout(p=0.3, inplace=False)\n",
       "    (8): Linear(in_features=32, out_features=1, bias=True)\n",
       "    (9): Sigmoid()\n",
       "  )\n",
       ")"
      ]
     },
     "execution_count": 4,
     "metadata": {},
     "output_type": "execute_result"
    }
   ],
   "source": [
    "# Load model and scaler\n",
    "model = FeedforwardNet(input_dim=len(top_features))\n",
    "model.load_state_dict(torch.load(\"final_nn_model.pt\"))\n",
    "model.eval()"
   ]
  },
  {
   "cell_type": "code",
   "execution_count": 5,
   "id": "e6bf8eb9-9bd6-48ad-a27c-128be7653ab4",
   "metadata": {},
   "outputs": [
    {
     "data": {
      "text/plain": [
       "0"
      ]
     },
     "execution_count": 5,
     "metadata": {},
     "output_type": "execute_result"
    }
   ],
   "source": [
    "# === Process new VCF ===\n",
    "vcf_path = \"validation_chr19.vcf\"\n",
    "vcf = VCF(vcf_path)\n",
    "vcf.add_info_to_header({'ID': 'high_confidence', 'Description': 'Model prediction exceeds threshold', 'Type': 'String', 'Number': '1'})"
   ]
  },
  {
   "cell_type": "code",
   "execution_count": 6,
   "id": "e03888a3-15bc-4052-aa3c-7f2ae7e0a13f",
   "metadata": {},
   "outputs": [],
   "source": [
    "# INFO and FORMAT fields to extract\n",
    "info_fields = [\n",
    "    \"MBQ\", \"MMQ\", \"GOLDEN\"\n",
    "]\n",
    "\n",
    "format_fields = [\n",
    "    \"AD\", \"AF\", \"F1R2\", \"F2R1\"\n",
    "]\n",
    "\n",
    "split_ref_alt_fields = {\"AD\", \"AF\", \"F1R2\", \"F2R1\"}\n",
    "split_info_ref_alt = {\"MBQ\", \"MMQ\"}"
   ]
  },
  {
   "cell_type": "code",
   "execution_count": 7,
   "id": "afe72955-3e95-4570-8203-27266ac6a5d8",
   "metadata": {},
   "outputs": [
    {
     "name": "stdout",
     "output_type": "stream",
     "text": [
      "Using tumor sample: chr19.tumor.snv.indel\n"
     ]
    }
   ],
   "source": [
    "tumor_index = determine_tumor_sample_index(vcf.samples)"
   ]
  },
  {
   "cell_type": "code",
   "execution_count": 8,
   "id": "fe226df5-9a6b-45de-8d5d-d18fd39c163e",
   "metadata": {},
   "outputs": [],
   "source": [
    "df = extract_variant_features(vcf, info_fields, format_fields, split_info_ref_alt, split_ref_alt_fields, tumor_index)"
   ]
  },
  {
   "cell_type": "code",
   "execution_count": 9,
   "id": "847d3b58-dbdf-4762-b415-3907ffc9a2a9",
   "metadata": {},
   "outputs": [],
   "source": [
    "df = normalize_vcf_features_for_prediction(df, robust_scaler_path=\"robust_scaler.pkl\")"
   ]
  },
  {
   "cell_type": "code",
   "execution_count": 10,
   "id": "c627dda9-b8dd-4bce-bb81-59c4a54253d1",
   "metadata": {},
   "outputs": [],
   "source": [
    "# Predict\n",
    "X = df[top_features].values.astype(np.float32)\n",
    "probs = model(torch.tensor(X)).squeeze().detach().numpy()\n",
    "df[\"probability\"] = probs\n",
    "df[\"high_confidence\"] = (df[\"probability\"] >= threshold).astype(int)"
   ]
  },
  {
   "cell_type": "code",
   "execution_count": 11,
   "id": "08378d4f-2374-4723-8734-5f6125df02c4",
   "metadata": {},
   "outputs": [
    {
     "name": "stdout",
     "output_type": "stream",
     "text": [
      "Precision: 0.3714\n",
      "Recall: 0.0483\n"
     ]
    }
   ],
   "source": [
    "precision = precision_score(df['GOLDEN'].fillna(0).astype(int), df['high_confidence'].astype(int))\n",
    "recall = recall_score(df['GOLDEN'].fillna(0).astype(int), df['high_confidence'].astype(int))\n",
    "\n",
    "print(f\"Precision: {precision:.4f}\")\n",
    "print(f\"Recall: {recall:.4f}\")"
   ]
  },
  {
   "cell_type": "code",
   "execution_count": 12,
   "id": "6163aab6-e6a7-466e-a88f-9c7366402dbe",
   "metadata": {},
   "outputs": [
    {
     "name": "stdout",
     "output_type": "stream",
     "text": [
      "Number of rows where 'probability' > 0.24123049030701318: 35\n",
      "count    2.081600e+04\n",
      "mean     1.074752e-02\n",
      "std      2.172421e-02\n",
      "min      9.147229e-12\n",
      "25%      2.080868e-07\n",
      "50%      2.764550e-03\n",
      "75%      1.213699e-02\n",
      "max      4.554917e-01\n",
      "Name: probability, dtype: float64\n"
     ]
    }
   ],
   "source": [
    "count = (df['probability'] > threshold).sum()\n",
    "print(f\"Number of rows where 'probability' > {threshold}: {count}\")\n",
    "\n",
    "print(df['probability'].describe())"
   ]
  },
  {
   "cell_type": "code",
   "execution_count": 13,
   "id": "7a8fd3a0-ff25-4092-a5a0-3b877abf1bdf",
   "metadata": {},
   "outputs": [
    {
     "data": {
      "image/png": "[encoded data removed]",
      "text/plain": [
       "<Figure size 640x480 with 1 Axes>"
      ]
     },
     "metadata": {},
     "output_type": "display_data"
    }
   ],
   "source": [
    "df[\"probability\"].hist(bins=50)\n",
    "plt.axvline(threshold, color=\"red\")\n",
    "plt.title(\"Prediction Probabilities\")\n",
    "plt.show()"
   ]
  }
 ],
 "metadata": {
  "kernelspec": {
   "display_name": "Python 3 (ipykernel)",
   "language": "python",
   "name": "python3"
  },
  "language_info": {
   "codemirror_mode": {
    "name": "ipython",
    "version": 3
   },
   "file_extension": ".py",
   "mimetype": "text/x-python",
   "name": "python",
   "nbconvert_exporter": "python",
   "pygments_lexer": "ipython3",
   "version": "3.9.19"
  }
 },
 "nbformat": 4,
 "nbformat_minor": 5
}
