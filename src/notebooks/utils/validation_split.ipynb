{
 "cells": [
  {
   "cell_type": "code",
   "execution_count": 1,
   "id": "e5c3a785-e443-491c-a04d-7f000f90dc71",
   "metadata": {},
   "outputs": [
    {
     "name": "stdout",
     "output_type": "stream",
     "text": [
      "Requirement already satisfied: cyvcf2 in /home/kourisa/anaconda3/lib/python3.9/site-packages (0.31.1)\n",
      "Requirement already satisfied: numpy>=1.16.0 in /home/kourisa/anaconda3/lib/python3.9/site-packages (from cyvcf2) (1.26.4)\n",
      "Requirement already satisfied: coloredlogs in /home/kourisa/anaconda3/lib/python3.9/site-packages (from cyvcf2) (15.0.1)\n",
      "Requirement already satisfied: click in /home/kourisa/anaconda3/lib/python3.9/site-packages (from cyvcf2) (8.1.7)\n",
      "Requirement already satisfied: humanfriendly>=9.1 in /home/kourisa/anaconda3/lib/python3.9/site-packages (from coloredlogs->cyvcf2) (10.0)\n"
     ]
    }
   ],
   "source": [
    "!pip install cyvcf2"
   ]
  },
  {
   "cell_type": "code",
   "execution_count": 2,
   "id": "833cdef0-d677-463f-a334-cdd1819653f1",
   "metadata": {},
   "outputs": [],
   "source": [
    "import random\n",
    "import sys\n",
    "from cyvcf2 import VCF, Writer\n",
    "from pathlib import Path\n",
    "\n",
    "sys.path.append(str(Path().resolve().parents[2] / \"src\" / \"python\"))\n",
    "from paths import training_path, validation_path"
   ]
  },
  {
   "cell_type": "code",
   "execution_count": 3,
   "id": "fad8d0a1-9ed2-40a3-91e5-f3f00ea4cfe1",
   "metadata": {},
   "outputs": [],
   "source": [
    "def stratified_split(in_vcf, out_train, out_valid, frac, seed=None):\n",
    "    if seed is not None:\n",
    "        random.seed(seed)\n",
    "\n",
    "    # First pass: count how many GOLDEN / non-GOLDEN\n",
    "    vcf = VCF(in_vcf)\n",
    "    total_golden = 0\n",
    "    total_non = 0\n",
    "    for rec in vcf:\n",
    "        if rec.INFO.get(\"GOLDEN\"):\n",
    "            total_golden += 1\n",
    "        else:\n",
    "            total_non += 1\n",
    "    vcf.close()\n",
    "\n",
    "    n_valid_golden = int(total_golden * frac)\n",
    "    n_valid_non    = int(total_non    * frac)\n",
    "\n",
    "    # Reservoirs will store 1-based indices within each class\n",
    "    golden_reservoir = []\n",
    "    non_reservoir    = []\n",
    "\n",
    "    # Second pass: build reservoirs\n",
    "    vcf = VCF(in_vcf)\n",
    "    ig, ing = 0, 0\n",
    "    for rec in vcf:\n",
    "        if rec.INFO.get(\"GOLDEN\"):\n",
    "            ig += 1\n",
    "            if len(golden_reservoir) < n_valid_golden:\n",
    "                golden_reservoir.append(ig)\n",
    "            else:\n",
    "                j = random.randrange(ig)\n",
    "                if j < n_valid_golden:\n",
    "                    golden_reservoir[j] = ig\n",
    "        else:\n",
    "            ing += 1\n",
    "            if len(non_reservoir) < n_valid_non:\n",
    "                non_reservoir.append(ing)\n",
    "            else:\n",
    "                j = random.randrange(ing)\n",
    "                if j < n_valid_non:\n",
    "                    non_reservoir[j] = ing\n",
    "    vcf.close()\n",
    "\n",
    "    # Third pass: write records to train vs. valid\n",
    "    vcf = VCF(in_vcf)\n",
    "    w_train = Writer(out_train, vcf)\n",
    "    w_valid = Writer(out_valid, vcf)\n",
    "\n",
    "    ig, ing = 0, 0\n",
    "    for rec in vcf:\n",
    "        if rec.INFO.get(\"GOLDEN\"):\n",
    "            ig += 1\n",
    "            if ig in golden_reservoir:\n",
    "                w_valid.write_record(rec)\n",
    "            else:\n",
    "                w_train.write_record(rec)\n",
    "        else:\n",
    "            ing += 1\n",
    "            if ing in non_reservoir:\n",
    "                w_valid.write_record(rec)\n",
    "            else:\n",
    "                w_train.write_record(rec)\n",
    "\n",
    "    w_train.close()\n",
    "    w_valid.close()\n",
    "    vcf.close()\n",
    "\n",
    "    print(f\"Total GOLDEN variants       : {total_golden}\")\n",
    "    print(f\"Total non-GOLDEN variants   : {total_non}\")\n",
    "    print(f\"Validation GOLDEN assigned  : {len(golden_reservoir)}\")\n",
    "    print(f\"Validation non-GOLDEN assigned: {len(non_reservoir)}\")\n",
    "    print(\"Done. Stratified split complete.\")"
   ]
  },
  {
   "cell_type": "code",
   "execution_count": 4,
   "id": "fc6f4cf8-0698-45b3-8ecc-0ef969c79ed5",
   "metadata": {},
   "outputs": [],
   "source": [
    "input_vcf = training_path / \"annotated_hg38.vcf\"\n",
    "output_train_vcf = training_path / \"training_hg38.vcf\"\n",
    "output_validation_vcf = validation_path / \"validation_hg38.vcf\"\n",
    "frac = 0.2\n",
    "seed = 42"
   ]
  },
  {
   "cell_type": "code",
   "execution_count": 5,
   "id": "8413bee0-c350-409b-89cb-26fbbd45c27b",
   "metadata": {},
   "outputs": [
    {
     "name": "stdout",
     "output_type": "stream",
     "text": [
      "Total GOLDEN variants       : 11068\n",
      "Total non-GOLDEN variants   : 268035\n",
      "Validation GOLDEN assigned  : 2213\n",
      "Validation non-GOLDEN assigned: 53607\n",
      "Done. Stratified split complete.\n"
     ]
    }
   ],
   "source": [
    "stratified_split(input_vcf, output_train_vcf, output_validation_vcf, frac, seed)"
   ]
  }
 ],
 "metadata": {
  "kernelspec": {
   "display_name": "Python 3 (ipykernel)",
   "language": "python",
   "name": "python3"
  },
  "language_info": {
   "codemirror_mode": {
    "name": "ipython",
    "version": 3
   },
   "file_extension": ".py",
   "mimetype": "text/x-python",
   "name": "python",
   "nbconvert_exporter": "python",
   "pygments_lexer": "ipython3",
   "version": "3.9.19"
  }
 },
 "nbformat": 4,
 "nbformat_minor": 5
}
