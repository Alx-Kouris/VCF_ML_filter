{
 "cells": [
  {
   "cell_type": "code",
   "execution_count": 1,
   "id": "56fc89fa-2b70-4274-8caa-4b8201eac952",
   "metadata": {},
   "outputs": [],
   "source": [
    "import joblib\n",
    "import json\n",
    "from cyvcf2 import VCF, Writer\n",
    "import numpy as np\n",
    "import pandas as pd\n",
    "import matplotlib.pyplot as plt\n",
    "from sklearn.metrics import precision_score, recall_score\n",
    "\n",
    "import sys\n",
    "from pathlib import Path\n",
    "\n",
    "sys.path.append(str(Path().resolve().parents[2] / \"src\" / \"python\"))\n",
    "from paths import validation_path, models_path, training_path\n",
    "from vcf_helpers import extract_variant_features, normalize_vcf_features_for_prediction, determine_tumor_sample_index, cleanup_dataframe, compare_distributions"
   ]
  },
  {
   "cell_type": "code",
   "execution_count": 2,
   "id": "d4f9a869-3a2a-4bc2-b917-ba67a9974314",
   "metadata": {},
   "outputs": [],
   "source": [
    "model = joblib.load(models_path / \"lightgbm_variant_classifier.pkl\")\n",
    "with open(models_path / \"model_metadata.json\") as f:\n",
    "    meta = json.load(f)"
   ]
  },
  {
   "cell_type": "code",
   "execution_count": 3,
   "id": "00e1811a-175a-42d5-b3dd-a4b3f78dd879",
   "metadata": {},
   "outputs": [],
   "source": [
    "features = meta[\"features\"]\n",
    "threshold = meta[\"threshold\"]"
   ]
  },
  {
   "cell_type": "code",
   "execution_count": 4,
   "id": "4a99b9b7-c337-4071-ba1a-e8c9910bf550",
   "metadata": {},
   "outputs": [],
   "source": [
    "# INFO and FORMAT fields to extract\n",
    "info_fields = [\n",
    "    \"AS_UNIQ_ALT_READ_COUNT\", \"CONTQ\", \"DP\", \"ECNT\", \"GERMQ\",\n",
    "    \"MBQ\", \"MFRL\", \"MMQ\", \"MPOS\", \"NALOD\", \"NCount\", \"NLOD\", \"OCM\", \"PON\",\n",
    "    \"POPAF\", \"ROQ\", \"SEQQ\", \"STRANDQ\", \"TLOD\", \"GOLDEN\"\n",
    "]\n",
    "\n",
    "format_fields = [\n",
    "    \"AD\", \"AF\", \"DP\", \"F1R2\", \"F2R1\", \"GQ\", \"PL\", \"SB\"\n",
    "]\n",
    "\n",
    "split_ref_alt_fields = {\"AD\", \"AF\", \"F1R2\", \"F2R1\", \"SB\"}\n",
    "\n",
    "split_info_ref_alt = {\"MBQ\", \"MFRL\", \"MMQ\"}\n",
    "\n",
    "# info_fields = [\n",
    "#     \"MBQ\", \"MMQ\", \"GOLDEN\"\n",
    "# ]\n",
    "\n",
    "# format_fields = [\n",
    "#     \"AD\", \"AF\", \"F1R2\", \"F2R1\"\n",
    "# ]\n",
    "\n",
    "# split_ref_alt_fields = {\"AD\", \"AF\", \"F1R2\", \"F2R1\"}\n",
    "# split_info_ref_alt = {\"MBQ\", \"MMQ\"}"
   ]
  },
  {
   "cell_type": "code",
   "execution_count": 5,
   "id": "0abfa2d8-10a2-4e2d-a41a-4fd21c87c535",
   "metadata": {},
   "outputs": [
    {
     "data": {
      "text/plain": [
       "0"
      ]
     },
     "execution_count": 5,
     "metadata": {},
     "output_type": "execute_result"
    }
   ],
   "source": [
    "in_vcf = validation_path / \"validation_hg38.vcf\"\n",
    "\n",
    "reader = VCF(in_vcf)\n",
    "reader.add_info_to_header({\n",
    "    'ID': 'high_confidence',\n",
    "    'Description': 'Comma-separated per-ALT high-confidence predictions (T = high confidence)',\n",
    "    'Type': 'String',\n",
    "    'Number': '0'\n",
    "})"
   ]
  },
  {
   "cell_type": "code",
   "execution_count": 6,
   "id": "85ae1468-153b-4f12-9f42-d2cfe7aeeb3b",
   "metadata": {},
   "outputs": [
    {
     "name": "stdout",
     "output_type": "stream",
     "text": [
      "Using tumor sample: HG008-T\n"
     ]
    }
   ],
   "source": [
    "tumor_index = determine_tumor_sample_index(reader.samples)"
   ]
  },
  {
   "cell_type": "code",
   "execution_count": 7,
   "id": "0ca408a8-36a5-4f1d-96b8-3aecbbe922b7",
   "metadata": {},
   "outputs": [],
   "source": [
    "df = extract_variant_features(reader, info_fields, format_fields, split_info_ref_alt, split_ref_alt_fields, tumor_index)"
   ]
  },
  {
   "cell_type": "code",
   "execution_count": 8,
   "id": "344c8f37-8f52-4411-a54f-f749da4f8a27",
   "metadata": {},
   "outputs": [
    {
     "name": "stdout",
     "output_type": "stream",
     "text": [
      "\n",
      " Dropped empty or excluded columns:\n",
      " - AS_UNIQ_ALT_READ_COUNT\n",
      " - CONTQ\n",
      " - GERMQ\n",
      " - GQ\n",
      " - NCount\n",
      " - OCM\n",
      " - PL\n",
      " - PON\n",
      " - ROQ\n",
      " - SEQQ\n",
      " - STRANDQ\n",
      " - POPAF\n"
     ]
    }
   ],
   "source": [
    "df = cleanup_dataframe(df)"
   ]
  },
  {
   "cell_type": "code",
   "execution_count": 9,
   "id": "c3b70c8d-8bd1-49e6-a798-8cd5300baebb",
   "metadata": {},
   "outputs": [],
   "source": [
    "missing = [f for f in features if f not in df.columns]\n",
    "if missing:\n",
    "    print(\"❗ Missing model features:\", missing)"
   ]
  },
  {
   "cell_type": "code",
   "execution_count": 10,
   "id": "76b5cffc-f18d-43de-8d2f-589796401812",
   "metadata": {},
   "outputs": [],
   "source": [
    "df = normalize_vcf_features_for_prediction(df)"
   ]
  },
  {
   "cell_type": "code",
   "execution_count": 11,
   "id": "3cf2d660-6dc6-4d30-800e-f4e06e29267d",
   "metadata": {},
   "outputs": [
    {
     "name": "stdout",
     "output_type": "stream",
     "text": [
      "❌ Non-numeric feature columns:\n",
      "Series([], dtype: object)\n"
     ]
    }
   ],
   "source": [
    "bad_dtypes = df[features].dtypes[df[features].dtypes.apply(lambda dt: not np.issubdtype(dt, np.number))]\n",
    "print(\"❌ Non-numeric feature columns:\")\n",
    "print(bad_dtypes)\n",
    "\n",
    "for col in bad_dtypes.index:\n",
    "    print(f\"\\nColumn: {col}\")\n",
    "    print(df[col].dropna().unique()[:10])  # Show first few unique non-null values"
   ]
  },
  {
   "cell_type": "code",
   "execution_count": 12,
   "id": "4c27382b-9e31-44a1-bb24-76cf48bdfd79",
   "metadata": {},
   "outputs": [],
   "source": [
    "# compare distributions\n",
    "# train_df = pd.read_csv(training_path / \"vcf_feature_vectors.csv\")\n",
    "# compare_distributions(train_df, df)"
   ]
  },
  {
   "cell_type": "code",
   "execution_count": 13,
   "id": "69916e19-a07a-4411-b10b-8536f02d19eb",
   "metadata": {},
   "outputs": [],
   "source": [
    "# Predict\n",
    "df[\"probability\"] = model.predict_proba(df[features])[:, 1]\n",
    "df[\"high_confidence\"] = df[\"probability\"] >= threshold"
   ]
  },
  {
   "cell_type": "code",
   "execution_count": 14,
   "id": "c7a3dbb4-4017-474e-b9a9-d622e3d6683e",
   "metadata": {},
   "outputs": [
    {
     "name": "stdout",
     "output_type": "stream",
     "text": [
      "Precision: 0.7089\n",
      "Recall: 0.9783\n"
     ]
    }
   ],
   "source": [
    "precision = precision_score(df['GOLDEN'].fillna(0).astype(int), df['high_confidence'].astype(int))\n",
    "recall = recall_score(df['GOLDEN'].fillna(0).astype(int), df['high_confidence'].astype(int))\n",
    "\n",
    "print(f\"Precision: {precision:.4f}\")\n",
    "print(f\"Recall: {recall:.4f}\")"
   ]
  },
  {
   "cell_type": "code",
   "execution_count": 15,
   "id": "ad04e065-db21-403f-bfe2-0e19cb1816e8",
   "metadata": {
    "scrolled": true
   },
   "outputs": [
    {
     "name": "stdout",
     "output_type": "stream",
     "text": [
      "Number of rows where 'probability' > 0.5272908827298157: 3054\n",
      "count    55820.000000\n",
      "mean         0.051625\n",
      "std          0.204447\n",
      "min          0.000007\n",
      "25%          0.000022\n",
      "50%          0.000035\n",
      "75%          0.000158\n",
      "max          0.998185\n",
      "Name: probability, dtype: float64\n"
     ]
    }
   ],
   "source": [
    "count = (df['probability'] > threshold).sum()\n",
    "print(f\"Number of rows where 'probability' > {threshold}: {count}\")\n",
    "\n",
    "print(df['probability'].describe())"
   ]
  },
  {
   "cell_type": "code",
   "execution_count": 16,
   "id": "5141d825-302c-40b6-89b8-69d48853038f",
   "metadata": {},
   "outputs": [
    {
     "data": {
      "image/png": "[encoded data removed]",
      "text/plain": [
       "<Figure size 640x480 with 1 Axes>"
      ]
     },
     "metadata": {},
     "output_type": "display_data"
    }
   ],
   "source": [
    "df[\"probability\"].hist(bins=50)\n",
    "plt.axvline(threshold, color=\"red\")\n",
    "plt.title(\"Prediction Probabilities\")\n",
    "plt.show()"
   ]
  },
  {
   "cell_type": "code",
   "execution_count": null,
   "id": "681f7b44-35f9-4295-922f-8b4db4742cfb",
   "metadata": {},
   "outputs": [],
   "source": []
  }
 ],
 "metadata": {
  "kernelspec": {
   "display_name": "Python 3 (ipykernel)",
   "language": "python",
   "name": "python3"
  },
  "language_info": {
   "codemirror_mode": {
    "name": "ipython",
    "version": 3
   },
   "file_extension": ".py",
   "mimetype": "text/x-python",
   "name": "python",
   "nbconvert_exporter": "python",
   "pygments_lexer": "ipython3",
   "version": "3.9.19"
  }
 },
 "nbformat": 4,
 "nbformat_minor": 5
}
